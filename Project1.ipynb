{
 "cells": [
  {
   "cell_type": "code",
   "execution_count": 12,
   "metadata": {},
   "outputs": [],
   "source": [
    "import numpy as np\n",
    "import pandas as pd\n",
    "import matplotlib.pyplot as plt \n",
    "import seaborn as sns \n",
    "from sklearn import linear_model\n",
    "from sklearn import model_selection\n",
    "from sklearn import metrics"
   ]
  },
  {
   "cell_type": "code",
   "execution_count": 13,
   "metadata": {},
   "outputs": [],
   "source": [
    "df=pd.read_csv(\"D:\\Machine Learning\\Datasets\\loans.csv\")"
   ]
  },
  {
   "cell_type": "code",
   "execution_count": 15,
   "metadata": {},
   "outputs": [
    {
     "ename": "ValueError",
     "evalue": "Could not interpret input 'count'",
     "output_type": "error",
     "traceback": [
      "\u001b[1;31m---------------------------------------------------------------------------\u001b[0m",
      "\u001b[1;31mValueError\u001b[0m                                Traceback (most recent call last)",
      "\u001b[1;32m<ipython-input-15-545200028f5e>\u001b[0m in \u001b[0;36m<module>\u001b[1;34m\u001b[0m\n\u001b[0;32m      1\u001b[0m \u001b[1;31m# count plot on single categorical variable\u001b[0m\u001b[1;33m\u001b[0m\u001b[1;33m\u001b[0m\u001b[1;33m\u001b[0m\u001b[0m\n\u001b[1;32m----> 2\u001b[1;33m \u001b[0msns\u001b[0m\u001b[1;33m.\u001b[0m\u001b[0mcountplot\u001b[0m\u001b[1;33m(\u001b[0m\u001b[0mx\u001b[0m\u001b[1;33m=\u001b[0m\u001b[1;34m\"count\"\u001b[0m\u001b[1;33m,\u001b[0m\u001b[0mhue\u001b[0m\u001b[1;33m=\u001b[0m\u001b[1;34m\"not.fully.paid\"\u001b[0m\u001b[1;33m,\u001b[0m\u001b[0mdata\u001b[0m\u001b[1;33m=\u001b[0m\u001b[0mdf\u001b[0m\u001b[1;33m)\u001b[0m\u001b[1;33m\u001b[0m\u001b[1;33m\u001b[0m\u001b[0m\n\u001b[0m\u001b[0;32m      3\u001b[0m \u001b[1;33m\u001b[0m\u001b[0m\n\u001b[0;32m      4\u001b[0m \u001b[1;31m# Show the plot\u001b[0m\u001b[1;33m\u001b[0m\u001b[1;33m\u001b[0m\u001b[1;33m\u001b[0m\u001b[0m\n\u001b[0;32m      5\u001b[0m \u001b[0mplt\u001b[0m\u001b[1;33m.\u001b[0m\u001b[0mshow\u001b[0m\u001b[1;33m(\u001b[0m\u001b[1;33m)\u001b[0m\u001b[1;33m\u001b[0m\u001b[1;33m\u001b[0m\u001b[0m\n",
      "\u001b[1;32mD:\\Apps\\lib\\site-packages\\seaborn\\_decorators.py\u001b[0m in \u001b[0;36minner_f\u001b[1;34m(*args, **kwargs)\u001b[0m\n\u001b[0;32m     44\u001b[0m             )\n\u001b[0;32m     45\u001b[0m         \u001b[0mkwargs\u001b[0m\u001b[1;33m.\u001b[0m\u001b[0mupdate\u001b[0m\u001b[1;33m(\u001b[0m\u001b[1;33m{\u001b[0m\u001b[0mk\u001b[0m\u001b[1;33m:\u001b[0m \u001b[0marg\u001b[0m \u001b[1;32mfor\u001b[0m \u001b[0mk\u001b[0m\u001b[1;33m,\u001b[0m \u001b[0marg\u001b[0m \u001b[1;32min\u001b[0m \u001b[0mzip\u001b[0m\u001b[1;33m(\u001b[0m\u001b[0msig\u001b[0m\u001b[1;33m.\u001b[0m\u001b[0mparameters\u001b[0m\u001b[1;33m,\u001b[0m \u001b[0margs\u001b[0m\u001b[1;33m)\u001b[0m\u001b[1;33m}\u001b[0m\u001b[1;33m)\u001b[0m\u001b[1;33m\u001b[0m\u001b[1;33m\u001b[0m\u001b[0m\n\u001b[1;32m---> 46\u001b[1;33m         \u001b[1;32mreturn\u001b[0m \u001b[0mf\u001b[0m\u001b[1;33m(\u001b[0m\u001b[1;33m**\u001b[0m\u001b[0mkwargs\u001b[0m\u001b[1;33m)\u001b[0m\u001b[1;33m\u001b[0m\u001b[1;33m\u001b[0m\u001b[0m\n\u001b[0m\u001b[0;32m     47\u001b[0m     \u001b[1;32mreturn\u001b[0m \u001b[0minner_f\u001b[0m\u001b[1;33m\u001b[0m\u001b[1;33m\u001b[0m\u001b[0m\n\u001b[0;32m     48\u001b[0m \u001b[1;33m\u001b[0m\u001b[0m\n",
      "\u001b[1;32mD:\\Apps\\lib\\site-packages\\seaborn\\categorical.py\u001b[0m in \u001b[0;36mcountplot\u001b[1;34m(x, y, hue, data, order, hue_order, orient, color, palette, saturation, dodge, ax, **kwargs)\u001b[0m\n\u001b[0;32m   3583\u001b[0m         \u001b[1;32mraise\u001b[0m \u001b[0mValueError\u001b[0m\u001b[1;33m(\u001b[0m\u001b[1;34m\"Cannot pass values for both `x` and `y`\"\u001b[0m\u001b[1;33m)\u001b[0m\u001b[1;33m\u001b[0m\u001b[1;33m\u001b[0m\u001b[0m\n\u001b[0;32m   3584\u001b[0m \u001b[1;33m\u001b[0m\u001b[0m\n\u001b[1;32m-> 3585\u001b[1;33m     plotter = _CountPlotter(\n\u001b[0m\u001b[0;32m   3586\u001b[0m         \u001b[0mx\u001b[0m\u001b[1;33m,\u001b[0m \u001b[0my\u001b[0m\u001b[1;33m,\u001b[0m \u001b[0mhue\u001b[0m\u001b[1;33m,\u001b[0m \u001b[0mdata\u001b[0m\u001b[1;33m,\u001b[0m \u001b[0morder\u001b[0m\u001b[1;33m,\u001b[0m \u001b[0mhue_order\u001b[0m\u001b[1;33m,\u001b[0m\u001b[1;33m\u001b[0m\u001b[1;33m\u001b[0m\u001b[0m\n\u001b[0;32m   3587\u001b[0m         \u001b[0mestimator\u001b[0m\u001b[1;33m,\u001b[0m \u001b[0mci\u001b[0m\u001b[1;33m,\u001b[0m \u001b[0mn_boot\u001b[0m\u001b[1;33m,\u001b[0m \u001b[0munits\u001b[0m\u001b[1;33m,\u001b[0m \u001b[0mseed\u001b[0m\u001b[1;33m,\u001b[0m\u001b[1;33m\u001b[0m\u001b[1;33m\u001b[0m\u001b[0m\n",
      "\u001b[1;32mD:\\Apps\\lib\\site-packages\\seaborn\\categorical.py\u001b[0m in \u001b[0;36m__init__\u001b[1;34m(self, x, y, hue, data, order, hue_order, estimator, ci, n_boot, units, seed, orient, color, palette, saturation, errcolor, errwidth, capsize, dodge)\u001b[0m\n\u001b[0;32m   1582\u001b[0m                  errwidth, capsize, dodge):\n\u001b[0;32m   1583\u001b[0m         \u001b[1;34m\"\"\"Initialize the plotter.\"\"\"\u001b[0m\u001b[1;33m\u001b[0m\u001b[1;33m\u001b[0m\u001b[0m\n\u001b[1;32m-> 1584\u001b[1;33m         self.establish_variables(x, y, hue, data, orient,\n\u001b[0m\u001b[0;32m   1585\u001b[0m                                  order, hue_order, units)\n\u001b[0;32m   1586\u001b[0m         \u001b[0mself\u001b[0m\u001b[1;33m.\u001b[0m\u001b[0mestablish_colors\u001b[0m\u001b[1;33m(\u001b[0m\u001b[0mcolor\u001b[0m\u001b[1;33m,\u001b[0m \u001b[0mpalette\u001b[0m\u001b[1;33m,\u001b[0m \u001b[0msaturation\u001b[0m\u001b[1;33m)\u001b[0m\u001b[1;33m\u001b[0m\u001b[1;33m\u001b[0m\u001b[0m\n",
      "\u001b[1;32mD:\\Apps\\lib\\site-packages\\seaborn\\categorical.py\u001b[0m in \u001b[0;36mestablish_variables\u001b[1;34m(self, x, y, hue, data, orient, order, hue_order, units)\u001b[0m\n\u001b[0;32m    151\u001b[0m                 \u001b[1;32mif\u001b[0m \u001b[0misinstance\u001b[0m\u001b[1;33m(\u001b[0m\u001b[0mvar\u001b[0m\u001b[1;33m,\u001b[0m \u001b[0mstr\u001b[0m\u001b[1;33m)\u001b[0m\u001b[1;33m:\u001b[0m\u001b[1;33m\u001b[0m\u001b[1;33m\u001b[0m\u001b[0m\n\u001b[0;32m    152\u001b[0m                     \u001b[0merr\u001b[0m \u001b[1;33m=\u001b[0m \u001b[1;34m\"Could not interpret input '{}'\"\u001b[0m\u001b[1;33m.\u001b[0m\u001b[0mformat\u001b[0m\u001b[1;33m(\u001b[0m\u001b[0mvar\u001b[0m\u001b[1;33m)\u001b[0m\u001b[1;33m\u001b[0m\u001b[1;33m\u001b[0m\u001b[0m\n\u001b[1;32m--> 153\u001b[1;33m                     \u001b[1;32mraise\u001b[0m \u001b[0mValueError\u001b[0m\u001b[1;33m(\u001b[0m\u001b[0merr\u001b[0m\u001b[1;33m)\u001b[0m\u001b[1;33m\u001b[0m\u001b[1;33m\u001b[0m\u001b[0m\n\u001b[0m\u001b[0;32m    154\u001b[0m \u001b[1;33m\u001b[0m\u001b[0m\n\u001b[0;32m    155\u001b[0m             \u001b[1;31m# Figure out the plotting orientation\u001b[0m\u001b[1;33m\u001b[0m\u001b[1;33m\u001b[0m\u001b[1;33m\u001b[0m\u001b[0m\n",
      "\u001b[1;31mValueError\u001b[0m: Could not interpret input 'count'"
     ]
    }
   ],
   "source": [
    "# count plot on single categorical variable\n",
    "sns.countplot(x=\"count\",hue=\"not.fully.paid\",data=df)\n",
    " \n",
    "# Show the plot\n",
    "plt.show()"
   ]
  },
  {
   "cell_type": "code",
   "execution_count": 101,
   "metadata": {},
   "outputs": [],
   "source": [
    "df.dropna(inplace=True)"
   ]
  },
  {
   "cell_type": "code",
   "execution_count": 102,
   "metadata": {},
   "outputs": [],
   "source": [
    "ser=pd.Series(np.where(df[\"purpose\"]==\"credit_card\",\"major_purchase\",df[\"purpose\"]),index=df.index)"
   ]
  },
  {
   "cell_type": "code",
   "execution_count": 103,
   "metadata": {},
   "outputs": [],
   "source": [
    "ser=pd.Series(np.where(ser==\"home_improvement\",\"all_other\",ser),index=ser.index)"
   ]
  },
  {
   "cell_type": "code",
   "execution_count": 104,
   "metadata": {},
   "outputs": [],
   "source": [
    "ser=pd.Series(np.where(ser==\"debt_consolidation\",\"all_other\",ser),index=ser.index)"
   ]
  },
  {
   "cell_type": "code",
   "execution_count": 105,
   "metadata": {},
   "outputs": [],
   "source": [
    "df[\"purpose1\"]=ser.values"
   ]
  },
  {
   "cell_type": "code",
   "execution_count": 106,
   "metadata": {},
   "outputs": [
    {
     "data": {
      "text/html": [
       "<div>\n",
       "<style scoped>\n",
       "    .dataframe tbody tr th:only-of-type {\n",
       "        vertical-align: middle;\n",
       "    }\n",
       "\n",
       "    .dataframe tbody tr th {\n",
       "        vertical-align: top;\n",
       "    }\n",
       "\n",
       "    .dataframe thead th {\n",
       "        text-align: right;\n",
       "    }\n",
       "</style>\n",
       "<table border=\"1\" class=\"dataframe\">\n",
       "  <thead>\n",
       "    <tr style=\"text-align: right;\">\n",
       "      <th>not.fully.paid</th>\n",
       "      <th>0</th>\n",
       "      <th>1</th>\n",
       "    </tr>\n",
       "    <tr>\n",
       "      <th>purpose1</th>\n",
       "      <th></th>\n",
       "      <th></th>\n",
       "    </tr>\n",
       "  </thead>\n",
       "  <tbody>\n",
       "    <tr>\n",
       "      <th>all_other</th>\n",
       "      <td>0.841852</td>\n",
       "      <td>0.158148</td>\n",
       "    </tr>\n",
       "    <tr>\n",
       "      <th>educational</th>\n",
       "      <td>0.797059</td>\n",
       "      <td>0.202941</td>\n",
       "    </tr>\n",
       "    <tr>\n",
       "      <th>major_purchase</th>\n",
       "      <td>0.885275</td>\n",
       "      <td>0.114725</td>\n",
       "    </tr>\n",
       "    <tr>\n",
       "      <th>small_business</th>\n",
       "      <td>0.721683</td>\n",
       "      <td>0.278317</td>\n",
       "    </tr>\n",
       "  </tbody>\n",
       "</table>\n",
       "</div>"
      ],
      "text/plain": [
       "not.fully.paid         0         1\n",
       "purpose1                          \n",
       "all_other       0.841852  0.158148\n",
       "educational     0.797059  0.202941\n",
       "major_purchase  0.885275  0.114725\n",
       "small_business  0.721683  0.278317"
      ]
     },
     "execution_count": 106,
     "metadata": {},
     "output_type": "execute_result"
    }
   ],
   "source": [
    "pd.crosstab(df[\"purpose1\"],df[\"not.fully.paid\"],normalize=\"index\")"
   ]
  },
  {
   "cell_type": "code",
   "execution_count": 107,
   "metadata": {},
   "outputs": [
    {
     "data": {
      "text/plain": [
       "all_other         6867\n",
       "major_purchase    1691\n",
       "small_business     618\n",
       "educational        340\n",
       "Name: purpose1, dtype: int64"
      ]
     },
     "execution_count": 107,
     "metadata": {},
     "output_type": "execute_result"
    }
   ],
   "source": [
    "df[\"purpose1\"].value_counts()"
   ]
  },
  {
   "cell_type": "code",
   "execution_count": 108,
   "metadata": {},
   "outputs": [
    {
     "data": {
      "text/plain": [
       "0    8960\n",
       "1     556\n",
       "Name: pub.rec1, dtype: int64"
      ]
     },
     "execution_count": 108,
     "metadata": {},
     "output_type": "execute_result"
    }
   ],
   "source": [
    "arr=np.where(df[\"pub.rec\"]>=1,1,0)\n",
    "ser=pd.Series(arr,index=df.index)\n",
    "df[\"pub.rec1\"]=ser.values\n",
    "df[\"pub.rec1\"].value_counts()\n"
   ]
  },
  {
   "cell_type": "code",
   "execution_count": 109,
   "metadata": {},
   "outputs": [
    {
     "data": {
      "text/plain": [
       "<AxesSubplot:xlabel='inq', ylabel='count'>"
      ]
     },
     "execution_count": 109,
     "metadata": {},
     "output_type": "execute_result"
    },
    {
     "data": {
      "image/png": "[encoded data removed]",
      "text/plain": [
       "<Figure size 432x288 with 1 Axes>"
      ]
     },
     "metadata": {
      "needs_background": "light"
     },
     "output_type": "display_data"
    }
   ],
   "source": [
    "arr=np.where(df[\"inq.last.6mths\"]>=8,7,df[\"inq.last.6mths\"])\n",
    "df[\"inq\"]=pd.Series(arr,index=df.index)\n",
    "sns.countplot(x=\"inq\",hue=\"not.fully.paid\",data=df)"
   ]
  },
  {
   "cell_type": "code",
   "execution_count": 110,
   "metadata": {},
   "outputs": [],
   "source": [
    "purpose={state:ind for ind,state in enumerate( df[\"purpose1\"].unique() , 1)}\n",
    "df[\"purpose1\"].replace(purpose,inplace=True)"
   ]
  },
  {
   "cell_type": "code",
   "execution_count": 111,
   "metadata": {},
   "outputs": [],
   "source": [
    "mybins=4\n",
    "df[\"installment_dis\"]=pd.qcut(df[\"installment\"],q=mybins,labels=list(range(1,5))).astype(np.int)\n",
    "df[\"dti_dis\"]=pd.qcut(df[\"dti\"],q=mybins,labels=list(range(1,5))).astype(np.int)\n",
    "df[\"revol.bal_dis\"]=pd.qcut(df[\"revol.bal\"],q=mybins,labels=list(range(1,5))).astype(np.int)\n",
    "df[\"revol.util_dis\"]=pd.qcut(df[\"revol.util\"],q=mybins,labels=list(range(1,5))).astype(np.int)\n",
    "df[\"days.with.cr.line_dis\"]=pd.qcut(df[\"days.with.cr.line\"],q=mybins,labels=list(range(1,5))).astype(np.int)\n",
    "df[\"log.annual.inc_dis\"]=pd.qcut(df[\"log.annual.inc\"],q=mybins,labels=list(range(1,5))).astype(np.int)"
   ]
  },
  {
   "cell_type": "code",
   "execution_count": 112,
   "metadata": {},
   "outputs": [],
   "source": [
    "des=df[ [\"credit.policy\",\"purpose1\",\"inq\",\"delinq.2yrs\",\"pub.rec1\",\"dti_dis\",\"installment_dis\",\"log.annual.inc_dis\",\"days.with.cr.line_dis\",\"revol.bal_dis\",\"revol.util_dis\"] ]  #Discrete"
   ]
  },
  {
   "cell_type": "code",
   "execution_count": 113,
   "metadata": {},
   "outputs": [],
   "source": [
    "X=des"
   ]
  },
  {
   "cell_type": "code",
   "execution_count": 114,
   "metadata": {},
   "outputs": [],
   "source": [
    "y=df[\"not.fully.paid\"]"
   ]
  },
  {
   "cell_type": "code",
   "execution_count": 115,
   "metadata": {},
   "outputs": [],
   "source": [
    "Xtrain,Xtest,ytrain,ytest=model_selection.train_test_split(X,y,test_size=.25,random_state=42)"
   ]
  },
  {
   "cell_type": "code",
   "execution_count": 116,
   "metadata": {},
   "outputs": [
    {
     "data": {
      "text/plain": [
       "inq                      0.152701\n",
       "days.with.cr.line_dis    0.129112\n",
       "dti_dis                  0.128247\n",
       "installment_dis          0.118977\n",
       "revol.bal_dis            0.109613\n",
       "log.annual.inc_dis       0.105429\n",
       "revol.util_dis           0.098702\n",
       "purpose1                 0.066950\n",
       "delinq.2yrs              0.044439\n",
       "credit.policy            0.026931\n",
       "pub.rec1                 0.018900\n",
       "dtype: float64"
      ]
     },
     "execution_count": 116,
     "metadata": {},
     "output_type": "execute_result"
    }
   ],
   "source": [
    "from sklearn import ensemble\n",
    "model=ensemble.RandomForestClassifier(random_state=42)\n",
    "model.fit(Xtrain,ytrain)\n",
    "ser=pd.Series(model.feature_importances_,index=Xtrain.columns)\n",
    "ser.sort_values(ascending=False)"
   ]
  },
  {
   "cell_type": "code",
   "execution_count": 117,
   "metadata": {},
   "outputs": [],
   "source": [
    "def getoutliers(ser,type=\"both\"):\n",
    "    iqr=ser.quantile(q=.75)-ser.quantile(q=.25)\n",
    "    thup=ser.quantile(q=.75)+1.5*iqr\n",
    "    thlow=ser.quantile(q=.25)-1.5*iqr\n",
    "    if type==\"upper\":\n",
    "        return ser[ser>thup].index.values\n",
    "    if type==\"both\":\n",
    "        return ser[(ser>thup) | (ser<thlow)].index.values\n",
    "    if type==\"lower\":\n",
    "        return ser[ser<thlow].index.values"
   ]
  },
  {
   "cell_type": "code",
   "execution_count": 118,
   "metadata": {},
   "outputs": [
    {
     "name": "stdout",
     "output_type": "stream",
     "text": [
      "columns :  ['credit.policy' 'purpose1']\n",
      "train recall  0.0 test recall  0.0\n",
      "=======================================================\n",
      "columns :  ['credit.policy' 'purpose1' 'inq']\n",
      "train recall  0.029668411867364748 test recall  0.021333333333333333\n",
      "=======================================================\n",
      "columns :  ['credit.policy' 'purpose1' 'inq' 'delinq.2yrs']\n",
      "train recall  0.04013961605584642 test recall  0.018666666666666668\n",
      "=======================================================\n",
      "columns :  ['credit.policy' 'purpose1' 'inq' 'delinq.2yrs' 'pub.rec1']\n",
      "train recall  0.0636998254799302 test recall  0.024\n",
      "=======================================================\n",
      "columns :  ['credit.policy' 'purpose1' 'inq' 'delinq.2yrs' 'pub.rec1' 'dti_dis']\n",
      "train recall  0.12303664921465969 test recall  0.048\n",
      "=======================================================\n",
      "columns :  ['credit.policy' 'purpose1' 'inq' 'delinq.2yrs' 'pub.rec1' 'dti_dis'\n",
      " 'installment_dis']\n",
      "train recall  0.23821989528795812 test recall  0.072\n",
      "=======================================================\n",
      "columns :  ['credit.policy' 'purpose1' 'inq' 'delinq.2yrs' 'pub.rec1' 'dti_dis'\n",
      " 'installment_dis' 'log.annual.inc_dis']\n",
      "train recall  0.37783595113438045 test recall  0.096\n",
      "=======================================================\n",
      "columns :  ['credit.policy' 'purpose1' 'inq' 'delinq.2yrs' 'pub.rec1' 'dti_dis'\n",
      " 'installment_dis' 'log.annual.inc_dis' 'days.with.cr.line_dis']\n",
      "train recall  0.5654450261780105 test recall  0.09333333333333334\n",
      "=======================================================\n",
      "columns :  ['credit.policy' 'purpose1' 'inq' 'delinq.2yrs' 'pub.rec1' 'dti_dis'\n",
      " 'installment_dis' 'log.annual.inc_dis' 'days.with.cr.line_dis'\n",
      " 'revol.bal_dis']\n",
      "train recall  0.7260034904013961 test recall  0.088\n",
      "=======================================================\n",
      "columns :  ['credit.policy' 'purpose1' 'inq' 'delinq.2yrs' 'pub.rec1' 'dti_dis'\n",
      " 'installment_dis' 'log.annual.inc_dis' 'days.with.cr.line_dis'\n",
      " 'revol.bal_dis' 'revol.util_dis']\n",
      "train recall  0.8551483420593369 test recall  0.07466666666666667\n",
      "=======================================================\n"
     ]
    }
   ],
   "source": [
    "model=ensemble.RandomForestClassifier(random_state=42,n_estimators=100)\n",
    "for col in range(2,Xtrain.shape[1]+1):\n",
    "    #print(Xtrain.columns.values[:col])\n",
    "    X1=Xtrain[Xtrain.columns.values[:col]]\n",
    "    X2=Xtest[Xtrain.columns.values[:col]]\n",
    "    model.fit(X1,ytrain)\n",
    "    trainp=model.predict(X1)\n",
    "    testp=model.predict(X2)\n",
    "    trainrecall=metrics.recall_score(ytrain,trainp)\n",
    "    testrecall=metrics.recall_score(ytest,testp)\n",
    "    print(\"columns : \",X1.columns.values)\n",
    "    print(\"train recall \",trainrecall,\"test recall \",testrecall)\n",
    "    print(\"=======================================================\")"
   ]
  },
  {
   "cell_type": "code",
   "execution_count": 119,
   "metadata": {},
   "outputs": [],
   "source": [
    "def getmetrics(Xtrain,Xtest,ytrain,ytest,collist,model):\n",
    "    X1=Xtrain[collist]\n",
    "    X2=Xtest[collist]\n",
    "    model.fit(X1,ytrain)\n",
    "    trainp=model.predict(X1)\n",
    "    testp=model.predict(X2)\n",
    "    trainrecall=metrics.recall_score(ytrain,trainp)\n",
    "    testrecall=metrics.recall_score(ytest,testp)\n",
    "    return collist,trainrecall,testrecall"
   ]
  },
  {
   "cell_type": "code",
   "execution_count": 120,
   "metadata": {},
   "outputs": [
    {
     "name": "stdout",
     "output_type": "stream",
     "text": [
      "0.23.2\n"
     ]
    },
    {
     "data": {
      "text/html": [
       "<div>\n",
       "<style scoped>\n",
       "    .dataframe tbody tr th:only-of-type {\n",
       "        vertical-align: middle;\n",
       "    }\n",
       "\n",
       "    .dataframe tbody tr th {\n",
       "        vertical-align: top;\n",
       "    }\n",
       "\n",
       "    .dataframe thead th {\n",
       "        text-align: right;\n",
       "    }\n",
       "</style>\n",
       "<table border=\"1\" class=\"dataframe\">\n",
       "  <thead>\n",
       "    <tr style=\"text-align: right;\">\n",
       "      <th></th>\n",
       "      <th>colums</th>\n",
       "      <th>count</th>\n",
       "      <th>train</th>\n",
       "      <th>test</th>\n",
       "    </tr>\n",
       "  </thead>\n",
       "  <tbody>\n",
       "    <tr>\n",
       "      <th>461</th>\n",
       "      <td>[inq, dti_dis, installment_dis, days.with.cr.l...</td>\n",
       "      <td>4</td>\n",
       "      <td>0.100349</td>\n",
       "      <td>0.066667</td>\n",
       "    </tr>\n",
       "    <tr>\n",
       "      <th>477</th>\n",
       "      <td>[inq, log.annual.inc_dis, days.with.cr.line_di...</td>\n",
       "      <td>4</td>\n",
       "      <td>0.093368</td>\n",
       "      <td>0.066667</td>\n",
       "    </tr>\n",
       "    <tr>\n",
       "      <th>366</th>\n",
       "      <td>[purpose1, inq, days.with.cr.line_dis, revol.u...</td>\n",
       "      <td>4</td>\n",
       "      <td>0.090750</td>\n",
       "      <td>0.061333</td>\n",
       "    </tr>\n",
       "    <tr>\n",
       "      <th>460</th>\n",
       "      <td>[inq, dti_dis, installment_dis, log.annual.inc...</td>\n",
       "      <td>4</td>\n",
       "      <td>0.098604</td>\n",
       "      <td>0.056000</td>\n",
       "    </tr>\n",
       "    <tr>\n",
       "      <th>472</th>\n",
       "      <td>[inq, installment_dis, log.annual.inc_dis, rev...</td>\n",
       "      <td>4</td>\n",
       "      <td>0.096859</td>\n",
       "      <td>0.056000</td>\n",
       "    </tr>\n",
       "    <tr>\n",
       "      <th>...</th>\n",
       "      <td>...</td>\n",
       "      <td>...</td>\n",
       "      <td>...</td>\n",
       "      <td>...</td>\n",
       "    </tr>\n",
       "    <tr>\n",
       "      <th>287</th>\n",
       "      <td>[credit.policy, delinq.2yrs, pub.rec1, days.wi...</td>\n",
       "      <td>4</td>\n",
       "      <td>0.014834</td>\n",
       "      <td>0.000000</td>\n",
       "    </tr>\n",
       "    <tr>\n",
       "      <th>328</th>\n",
       "      <td>[credit.policy, dti_dis, days.with.cr.line_dis...</td>\n",
       "      <td>4</td>\n",
       "      <td>0.000000</td>\n",
       "      <td>0.000000</td>\n",
       "    </tr>\n",
       "    <tr>\n",
       "      <th>511</th>\n",
       "      <td>[delinq.2yrs, log.annual.inc_dis, days.with.cr...</td>\n",
       "      <td>4</td>\n",
       "      <td>0.015707</td>\n",
       "      <td>0.000000</td>\n",
       "    </tr>\n",
       "    <tr>\n",
       "      <th>484</th>\n",
       "      <td>[delinq.2yrs, pub.rec1, dti_dis, revol.util_dis]</td>\n",
       "      <td>4</td>\n",
       "      <td>0.006981</td>\n",
       "      <td>0.000000</td>\n",
       "    </tr>\n",
       "    <tr>\n",
       "      <th>485</th>\n",
       "      <td>[delinq.2yrs, pub.rec1, installment_dis, log.a...</td>\n",
       "      <td>4</td>\n",
       "      <td>0.008726</td>\n",
       "      <td>0.000000</td>\n",
       "    </tr>\n",
       "  </tbody>\n",
       "</table>\n",
       "<p>330 rows × 4 columns</p>\n",
       "</div>"
      ],
      "text/plain": [
       "                                                colums  count     train  \\\n",
       "461  [inq, dti_dis, installment_dis, days.with.cr.l...      4  0.100349   \n",
       "477  [inq, log.annual.inc_dis, days.with.cr.line_di...      4  0.093368   \n",
       "366  [purpose1, inq, days.with.cr.line_dis, revol.u...      4  0.090750   \n",
       "460  [inq, dti_dis, installment_dis, log.annual.inc...      4  0.098604   \n",
       "472  [inq, installment_dis, log.annual.inc_dis, rev...      4  0.096859   \n",
       "..                                                 ...    ...       ...   \n",
       "287  [credit.policy, delinq.2yrs, pub.rec1, days.wi...      4  0.014834   \n",
       "328  [credit.policy, dti_dis, days.with.cr.line_dis...      4  0.000000   \n",
       "511  [delinq.2yrs, log.annual.inc_dis, days.with.cr...      4  0.015707   \n",
       "484   [delinq.2yrs, pub.rec1, dti_dis, revol.util_dis]      4  0.006981   \n",
       "485  [delinq.2yrs, pub.rec1, installment_dis, log.a...      4  0.008726   \n",
       "\n",
       "         test  \n",
       "461  0.066667  \n",
       "477  0.066667  \n",
       "366  0.061333  \n",
       "460  0.056000  \n",
       "472  0.056000  \n",
       "..        ...  \n",
       "287  0.000000  \n",
       "328  0.000000  \n",
       "511  0.000000  \n",
       "484  0.000000  \n",
       "485  0.000000  \n",
       "\n",
       "[330 rows x 4 columns]"
      ]
     },
     "execution_count": 120,
     "metadata": {},
     "output_type": "execute_result"
    }
   ],
   "source": [
    "from itertools import combinations\n",
    "cols=[]\n",
    "colscount=[]\n",
    "trainre=[]\n",
    "testre=[]\n",
    "model=ensemble.RandomForestClassifier(random_state=42)\n",
    "for val in range(2,5):\n",
    "    clist=[list(t) for t in list(combinations(list(Xtrain.columns),val))]\n",
    "    for collist in clist:\n",
    "        t=getmetrics(Xtrain,Xtest,ytrain,ytest,collist,model)\n",
    "        cols.append(t[0])\n",
    "        colscount.append(len(t[0]))\n",
    "        trainre.append(t[1])\n",
    "        testre.append(t[2])\n",
    "import sklearn\n",
    "print(sklearn.__version__)\n",
    "mdf=pd.DataFrame({\"colums\":cols,\"count\":colscount,\"train\":trainre,\"test\":testre})\n",
    "mdf[mdf[\"count\"]==4].sort_values(by=\"test\",ascending=False)"
   ]
  },
  {
   "cell_type": "code",
   "execution_count": 121,
   "metadata": {},
   "outputs": [],
   "source": [
    "from sklearn import ensemble\n",
    "from itertools import combinations\n",
    "cols=[]\n",
    "colscount=[]\n",
    "trainre=[]\n",
    "testre=[]\n",
    "model=ensemble.RandomForestClassifier(random_state=42)\n",
    "for val in range(2,6):\n",
    "    clist=[list(t) for t in list(combinations(list(Xtrain.columns),val))]\n",
    "    for collist in clist:\n",
    "        t=getmetrics(Xtrain,Xtest,ytrain,ytest,collist,model)\n",
    "        cols.append(t[0])\n",
    "        colscount.append(len(t[0]))\n",
    "        trainre.append(t[1])\n",
    "        testre.append(t[2])"
   ]
  },
  {
   "cell_type": "code",
   "execution_count": 122,
   "metadata": {},
   "outputs": [],
   "source": [
    "mdf=pd.DataFrame({\"colums\":cols,\"count\":colscount,\"train\":trainre,\"test\":testre})"
   ]
  },
  {
   "cell_type": "code",
   "execution_count": 123,
   "metadata": {},
   "outputs": [
    {
     "data": {
      "text/html": [
       "<div>\n",
       "<style scoped>\n",
       "    .dataframe tbody tr th:only-of-type {\n",
       "        vertical-align: middle;\n",
       "    }\n",
       "\n",
       "    .dataframe tbody tr th {\n",
       "        vertical-align: top;\n",
       "    }\n",
       "\n",
       "    .dataframe thead th {\n",
       "        text-align: right;\n",
       "    }\n",
       "</style>\n",
       "<table border=\"1\" class=\"dataframe\">\n",
       "  <thead>\n",
       "    <tr style=\"text-align: right;\">\n",
       "      <th></th>\n",
       "      <th>colums</th>\n",
       "      <th>count</th>\n",
       "      <th>train</th>\n",
       "      <th>test</th>\n",
       "    </tr>\n",
       "  </thead>\n",
       "  <tbody>\n",
       "    <tr>\n",
       "      <th>948</th>\n",
       "      <td>[inq, dti_dis, log.annual.inc_dis, days.with.c...</td>\n",
       "      <td>5</td>\n",
       "      <td>0.226003</td>\n",
       "      <td>0.101333</td>\n",
       "    </tr>\n",
       "    <tr>\n",
       "      <th>941</th>\n",
       "      <td>[inq, dti_dis, installment_dis, log.annual.inc...</td>\n",
       "      <td>5</td>\n",
       "      <td>0.221640</td>\n",
       "      <td>0.096000</td>\n",
       "    </tr>\n",
       "    <tr>\n",
       "      <th>952</th>\n",
       "      <td>[inq, installment_dis, log.annual.inc_dis, day...</td>\n",
       "      <td>5</td>\n",
       "      <td>0.239965</td>\n",
       "      <td>0.093333</td>\n",
       "    </tr>\n",
       "    <tr>\n",
       "      <th>804</th>\n",
       "      <td>[purpose1, inq, dti_dis, days.with.cr.line_dis...</td>\n",
       "      <td>5</td>\n",
       "      <td>0.195462</td>\n",
       "      <td>0.090667</td>\n",
       "    </tr>\n",
       "    <tr>\n",
       "      <th>671</th>\n",
       "      <td>[credit.policy, inq, dti_dis, installment_dis,...</td>\n",
       "      <td>5</td>\n",
       "      <td>0.144852</td>\n",
       "      <td>0.088000</td>\n",
       "    </tr>\n",
       "    <tr>\n",
       "      <th>...</th>\n",
       "      <td>...</td>\n",
       "      <td>...</td>\n",
       "      <td>...</td>\n",
       "      <td>...</td>\n",
       "    </tr>\n",
       "    <tr>\n",
       "      <th>690</th>\n",
       "      <td>[credit.policy, delinq.2yrs, pub.rec1, dti_dis...</td>\n",
       "      <td>5</td>\n",
       "      <td>0.041012</td>\n",
       "      <td>0.008000</td>\n",
       "    </tr>\n",
       "    <tr>\n",
       "      <th>978</th>\n",
       "      <td>[delinq.2yrs, dti_dis, installment_dis, log.an...</td>\n",
       "      <td>5</td>\n",
       "      <td>0.049738</td>\n",
       "      <td>0.005333</td>\n",
       "    </tr>\n",
       "    <tr>\n",
       "      <th>691</th>\n",
       "      <td>[credit.policy, delinq.2yrs, pub.rec1, dti_dis...</td>\n",
       "      <td>5</td>\n",
       "      <td>0.025305</td>\n",
       "      <td>0.005333</td>\n",
       "    </tr>\n",
       "    <tr>\n",
       "      <th>696</th>\n",
       "      <td>[credit.policy, delinq.2yrs, pub.rec1, install...</td>\n",
       "      <td>5</td>\n",
       "      <td>0.029668</td>\n",
       "      <td>0.005333</td>\n",
       "    </tr>\n",
       "    <tr>\n",
       "      <th>974</th>\n",
       "      <td>[delinq.2yrs, pub.rec1, log.annual.inc_dis, re...</td>\n",
       "      <td>5</td>\n",
       "      <td>0.026178</td>\n",
       "      <td>0.002667</td>\n",
       "    </tr>\n",
       "  </tbody>\n",
       "</table>\n",
       "<p>462 rows × 4 columns</p>\n",
       "</div>"
      ],
      "text/plain": [
       "                                                colums  count     train  \\\n",
       "948  [inq, dti_dis, log.annual.inc_dis, days.with.c...      5  0.226003   \n",
       "941  [inq, dti_dis, installment_dis, log.annual.inc...      5  0.221640   \n",
       "952  [inq, installment_dis, log.annual.inc_dis, day...      5  0.239965   \n",
       "804  [purpose1, inq, dti_dis, days.with.cr.line_dis...      5  0.195462   \n",
       "671  [credit.policy, inq, dti_dis, installment_dis,...      5  0.144852   \n",
       "..                                                 ...    ...       ...   \n",
       "690  [credit.policy, delinq.2yrs, pub.rec1, dti_dis...      5  0.041012   \n",
       "978  [delinq.2yrs, dti_dis, installment_dis, log.an...      5  0.049738   \n",
       "691  [credit.policy, delinq.2yrs, pub.rec1, dti_dis...      5  0.025305   \n",
       "696  [credit.policy, delinq.2yrs, pub.rec1, install...      5  0.029668   \n",
       "974  [delinq.2yrs, pub.rec1, log.annual.inc_dis, re...      5  0.026178   \n",
       "\n",
       "         test  \n",
       "948  0.101333  \n",
       "941  0.096000  \n",
       "952  0.093333  \n",
       "804  0.090667  \n",
       "671  0.088000  \n",
       "..        ...  \n",
       "690  0.008000  \n",
       "978  0.005333  \n",
       "691  0.005333  \n",
       "696  0.005333  \n",
       "974  0.002667  \n",
       "\n",
       "[462 rows x 4 columns]"
      ]
     },
     "execution_count": 123,
     "metadata": {},
     "output_type": "execute_result"
    }
   ],
   "source": [
    "mdf[mdf[\"count\"]==5].sort_values(by=\"test\",ascending=False)"
   ]
  },
  {
   "cell_type": "code",
   "execution_count": 124,
   "metadata": {},
   "outputs": [
    {
     "data": {
      "text/plain": [
       "array([False, False,  True, False, False,  True,  True, False,  True,\n",
       "        True, False])"
      ]
     },
     "execution_count": 124,
     "metadata": {},
     "output_type": "execute_result"
    }
   ],
   "source": [
    "from sklearn.feature_selection import SelectFromModel\n",
    "from sklearn import ensemble\n",
    "model=ensemble.RandomForestClassifier(n_estimators = 100)\n",
    "model1=SelectFromModel(model,max_features=5)\n",
    "model1.fit(Xtrain,ytrain)\n",
    "model1.get_support()"
   ]
  },
  {
   "cell_type": "code",
   "execution_count": 125,
   "metadata": {},
   "outputs": [],
   "source": [
    "selcom= Xtrain.columns[(model1.get_support())]"
   ]
  },
  {
   "cell_type": "code",
   "execution_count": 126,
   "metadata": {},
   "outputs": [
    {
     "data": {
      "text/plain": [
       "Index(['inq', 'dti_dis', 'installment_dis', 'days.with.cr.line_dis',\n",
       "       'revol.bal_dis'],\n",
       "      dtype='object')"
      ]
     },
     "execution_count": 126,
     "metadata": {},
     "output_type": "execute_result"
    }
   ],
   "source": [
    "selcom"
   ]
  },
  {
   "cell_type": "code",
   "execution_count": 127,
   "metadata": {},
   "outputs": [],
   "source": [
    "selcom=df[['inq', 'dti_dis', 'installment_dis', 'days.with.cr.line_dis',\n",
    "       'revol.bal_dis']]"
   ]
  },
  {
   "cell_type": "code",
   "execution_count": 128,
   "metadata": {},
   "outputs": [],
   "source": [
    "X=selcom\n",
    "y=df[\"not.fully.paid\"]\n",
    "\n",
    "Xtrain,Xtest,ytrain,ytest=model_selection.train_test_split(X,y,test_size=.25,random_state=42)"
   ]
  },
  {
   "cell_type": "code",
   "execution_count": 129,
   "metadata": {},
   "outputs": [],
   "source": [
    "from sklearn import linear_model\n",
    "from sklearn import model_selection\n",
    "from sklearn import utils \n",
    "from  sklearn import metrics \n",
    "from sklearn import tree\n",
    "from sklearn.feature_selection import RFECV\n",
    "from sklearn import feature_selection \n",
    "from sklearn import naive_bayes \n",
    "from sklearn import neighbors\n",
    "from sklearn import ensemble\n",
    "def modelstats1(Xtrain,Xtest,ytrain,ytest):\n",
    "    stats=[] \n",
    "    modelnames=[\"LR\",\"DecisionTree\",\"KNN\",\"NB\",\"RF\"]\n",
    "    models=list()\n",
    "    models.append(linear_model.LogisticRegression())\n",
    "    models.append(tree.DecisionTreeClassifier())\n",
    "    models.append(neighbors.KNeighborsClassifier())\n",
    "    models.append(naive_bayes.GaussianNB())\n",
    "    models.append(ensemble.RandomForestClassifier())\n",
    "    for name,model in zip(modelnames,models): \n",
    "        if name==\"KNN\":\n",
    "            k=[l for l in range(5,17,2)]\n",
    "            grid={\"n_neighbors\":k} \n",
    "            grid_obj=model_selection.GridSearchCV(estimator=model,param_grid=grid,scoring=\"f1\") \n",
    "            grid_fit=grid_obj.fit(Xtrain,ytrain) \n",
    "            model =grid_fit.best_estimator_\n",
    "            model.fit(Xtrain,ytrain)\n",
    "            name=name+\"(\"+str(grid_fit.best_params_[\"n_neighbors\"])+\")\"\n",
    "        else:\n",
    "            model.fit(Xtrain,ytrain)\n",
    "            trainprediction=model.predict(Xtrain)\n",
    "            testprediction=model.predict(Xtest)\n",
    "        scores=list() \n",
    "        scores.append(name+\"-train\")\n",
    "        scores.append(metrics.accuracy_score(ytrain,trainprediction))\n",
    "        scores.append(metrics.precision_score(ytrain,trainprediction))\n",
    "        scores.append(metrics.recall_score(ytrain,trainprediction))\n",
    "        scores.append(metrics.roc_auc_score(ytrain,trainprediction))\n",
    "        stats.append(scores)\n",
    "        scores=list()\n",
    "        scores.append(name+\"-test\")\n",
    "        scores.append(metrics.accuracy_score(ytest,testprediction))\n",
    "        scores.append(metrics.precision_score(ytest,testprediction))\n",
    "        scores.append(metrics.recall_score(ytest,testprediction))\n",
    "        scores.append(metrics.roc_auc_score(ytest,testprediction))\n",
    "        stats.append(scores)\n",
    "    colnames=[\"MODELNAME\",\"ACCURACY\",\"PRECISION\",\"RECALL\",\"AUC\"]\n",
    "    return pd.DataFrame(stats,columns=colnames)\n",
    "\n",
    "def modelstats2(Xtrain,Xtrainohe,Xtest,Xtestohe,ytrain,ytest):\n",
    "    stats=[] \n",
    "    modelnames=[\"LR\",\"DecisionTree\",\"KNN\",\"NB\",\"RF\"]\n",
    "    models=list()\n",
    "    models.append(linear_model.LogisticRegression())\n",
    "    models.append(tree.DecisionTreeClassifier())\n",
    "    models.append(neighbors.KNeighborsClassifier())\n",
    "    models.append(naive_bayes.GaussianNB())\n",
    "    models.append(ensemble.RandomForestClassifier())\n",
    "    for name,model in zip(modelnames,models): \n",
    "        if name==\"KNN\":\n",
    "            k=[l for l in range(5,17,2)]\n",
    "            grid={\"n_neighbors\":k} \n",
    "            grid_obj=model_selection.GridSearchCV(estimator=model,param_grid=grid,scoring=\"f1\") \n",
    "            grid_fit=grid_obj.fit(Xtrain,ytrain) \n",
    "            model =grid_fit.best_estimator_\n",
    "            model.fit(Xtrain,ytrain)\n",
    "            name=name+\"(\"+str(grid_fit.best_params_[\"n_neighbors\"])+\")\"\n",
    "        elif name==\"LR\":\n",
    "            model.fit(Xtrainohe,ytrain)\n",
    "            trainprediction=model.predict(Xtrainohe)\n",
    "            testprediction=model.predict(Xtestohe)\n",
    "        else:\n",
    "            model.fit(Xtrain,ytrain)\n",
    "            trainprediction=model.predict(Xtrain)\n",
    "            testprediction=model.predict(Xtest)\n",
    "        scores=list() \n",
    "        scores.append(name+\"-train\")\n",
    "        scores.append(metrics.accuracy_score(ytrain,trainprediction))\n",
    "        scores.append(metrics.precision_score(ytrain,trainprediction))\n",
    "        scores.append(metrics.recall_score(ytrain,trainprediction))\n",
    "        scores.append(metrics.roc_auc_score(ytrain,trainprediction))\n",
    "        stats.append(scores)\n",
    "        scores=list()\n",
    "        scores.append(name+\"-test\")\n",
    "        scores.append(metrics.accuracy_score(ytest,testprediction))\n",
    "        scores.append(metrics.precision_score(ytest,testprediction))\n",
    "        scores.append(metrics.recall_score(ytest,testprediction))\n",
    "        scores.append(metrics.roc_auc_score(ytest,testprediction))\n",
    "        stats.append(scores)\n",
    "    colnames=[\"MODELNAME\",\"ACCURACY\",\"PRECISION\",\"RECALL\",\"AUC\"]\n",
    "    return pd.DataFrame(stats,columns=colnames)"
   ]
  },
  {
   "cell_type": "code",
   "execution_count": 130,
   "metadata": {},
   "outputs": [
    {
     "name": "stderr",
     "output_type": "stream",
     "text": [
      "D:\\Apps\\lib\\site-packages\\sklearn\\metrics\\_classification.py:1221: UndefinedMetricWarning: Precision is ill-defined and being set to 0.0 due to no predicted samples. Use `zero_division` parameter to control this behavior.\n",
      "  _warn_prf(average, modifier, msg_start, len(result))\n",
      "D:\\Apps\\lib\\site-packages\\sklearn\\metrics\\_classification.py:1221: UndefinedMetricWarning: Precision is ill-defined and being set to 0.0 due to no predicted samples. Use `zero_division` parameter to control this behavior.\n",
      "  _warn_prf(average, modifier, msg_start, len(result))\n"
     ]
    },
    {
     "data": {
      "text/html": [
       "<div>\n",
       "<style scoped>\n",
       "    .dataframe tbody tr th:only-of-type {\n",
       "        vertical-align: middle;\n",
       "    }\n",
       "\n",
       "    .dataframe tbody tr th {\n",
       "        vertical-align: top;\n",
       "    }\n",
       "\n",
       "    .dataframe thead th {\n",
       "        text-align: right;\n",
       "    }\n",
       "</style>\n",
       "<table border=\"1\" class=\"dataframe\">\n",
       "  <thead>\n",
       "    <tr style=\"text-align: right;\">\n",
       "      <th></th>\n",
       "      <th>MODELNAME</th>\n",
       "      <th>ACCURACY</th>\n",
       "      <th>PRECISION</th>\n",
       "      <th>RECALL</th>\n",
       "      <th>AUC</th>\n",
       "    </tr>\n",
       "  </thead>\n",
       "  <tbody>\n",
       "    <tr>\n",
       "      <th>0</th>\n",
       "      <td>LR-train</td>\n",
       "      <td>0.839428</td>\n",
       "      <td>0.000000</td>\n",
       "      <td>0.000000</td>\n",
       "      <td>0.500000</td>\n",
       "    </tr>\n",
       "    <tr>\n",
       "      <th>1</th>\n",
       "      <td>LR-test</td>\n",
       "      <td>0.842371</td>\n",
       "      <td>0.000000</td>\n",
       "      <td>0.000000</td>\n",
       "      <td>0.500000</td>\n",
       "    </tr>\n",
       "    <tr>\n",
       "      <th>2</th>\n",
       "      <td>DecisionTree-train</td>\n",
       "      <td>0.863808</td>\n",
       "      <td>0.850806</td>\n",
       "      <td>0.184119</td>\n",
       "      <td>0.588971</td>\n",
       "    </tr>\n",
       "    <tr>\n",
       "      <th>3</th>\n",
       "      <td>DecisionTree-test</td>\n",
       "      <td>0.823455</td>\n",
       "      <td>0.297297</td>\n",
       "      <td>0.088000</td>\n",
       "      <td>0.524539</td>\n",
       "    </tr>\n",
       "    <tr>\n",
       "      <th>4</th>\n",
       "      <td>KNN(5)-train</td>\n",
       "      <td>0.863808</td>\n",
       "      <td>0.850806</td>\n",
       "      <td>0.184119</td>\n",
       "      <td>0.588971</td>\n",
       "    </tr>\n",
       "    <tr>\n",
       "      <th>5</th>\n",
       "      <td>KNN(5)-test</td>\n",
       "      <td>0.823455</td>\n",
       "      <td>0.297297</td>\n",
       "      <td>0.088000</td>\n",
       "      <td>0.524539</td>\n",
       "    </tr>\n",
       "    <tr>\n",
       "      <th>6</th>\n",
       "      <td>NB-train</td>\n",
       "      <td>0.825277</td>\n",
       "      <td>0.351032</td>\n",
       "      <td>0.103839</td>\n",
       "      <td>0.533559</td>\n",
       "    </tr>\n",
       "    <tr>\n",
       "      <th>7</th>\n",
       "      <td>NB-test</td>\n",
       "      <td>0.834384</td>\n",
       "      <td>0.411215</td>\n",
       "      <td>0.117333</td>\n",
       "      <td>0.542948</td>\n",
       "    </tr>\n",
       "    <tr>\n",
       "      <th>8</th>\n",
       "      <td>RF-train</td>\n",
       "      <td>0.863808</td>\n",
       "      <td>0.745763</td>\n",
       "      <td>0.230366</td>\n",
       "      <td>0.607672</td>\n",
       "    </tr>\n",
       "    <tr>\n",
       "      <th>9</th>\n",
       "      <td>RF-test</td>\n",
       "      <td>0.820092</td>\n",
       "      <td>0.277311</td>\n",
       "      <td>0.088000</td>\n",
       "      <td>0.522543</td>\n",
       "    </tr>\n",
       "  </tbody>\n",
       "</table>\n",
       "</div>"
      ],
      "text/plain": [
       "            MODELNAME  ACCURACY  PRECISION    RECALL       AUC\n",
       "0            LR-train  0.839428   0.000000  0.000000  0.500000\n",
       "1             LR-test  0.842371   0.000000  0.000000  0.500000\n",
       "2  DecisionTree-train  0.863808   0.850806  0.184119  0.588971\n",
       "3   DecisionTree-test  0.823455   0.297297  0.088000  0.524539\n",
       "4        KNN(5)-train  0.863808   0.850806  0.184119  0.588971\n",
       "5         KNN(5)-test  0.823455   0.297297  0.088000  0.524539\n",
       "6            NB-train  0.825277   0.351032  0.103839  0.533559\n",
       "7             NB-test  0.834384   0.411215  0.117333  0.542948\n",
       "8            RF-train  0.863808   0.745763  0.230366  0.607672\n",
       "9             RF-test  0.820092   0.277311  0.088000  0.522543"
      ]
     },
     "execution_count": 130,
     "metadata": {},
     "output_type": "execute_result"
    }
   ],
   "source": [
    "modelstats1(Xtrain,Xtest,ytrain,ytest)"
   ]
  },
  {
   "cell_type": "code",
   "execution_count": null,
   "metadata": {},
   "outputs": [],
   "source": []
  }
 ],
 "metadata": {
  "kernelspec": {
   "display_name": "Python 3",
   "language": "python",
   "name": "python3"
  },
  "language_info": {
   "codemirror_mode": {
    "name": "ipython",
    "version": 3
   },
   "file_extension": ".py",
   "mimetype": "text/x-python",
   "name": "python",
   "nbconvert_exporter": "python",
   "pygments_lexer": "ipython3",
   "version": "3.8.5"
  }
 },
 "nbformat": 4,
 "nbformat_minor": 4
}
